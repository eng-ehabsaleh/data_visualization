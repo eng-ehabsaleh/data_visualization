{
 "cells": [
  {
   "cell_type": "code",
   "execution_count": 1,
   "metadata": {},
   "outputs": [],
   "source": [
    "import numpy as np\n",
    "import pandas as pd\n",
    "import seaborn as sns\n",
    "import matplotlib.pyplot as plt"
   ]
  },
  {
   "cell_type": "code",
   "execution_count": 2,
   "metadata": {},
   "outputs": [
    {
     "data": {
      "text/html": [
       "<div>\n",
       "<style scoped>\n",
       "    .dataframe tbody tr th:only-of-type {\n",
       "        vertical-align: middle;\n",
       "    }\n",
       "\n",
       "    .dataframe tbody tr th {\n",
       "        vertical-align: top;\n",
       "    }\n",
       "\n",
       "    .dataframe thead th {\n",
       "        text-align: right;\n",
       "    }\n",
       "</style>\n",
       "<table border=\"1\" class=\"dataframe\">\n",
       "  <thead>\n",
       "    <tr style=\"text-align: right;\">\n",
       "      <th></th>\n",
       "      <th>Season</th>\n",
       "      <th>Pos</th>\n",
       "      <th>Team</th>\n",
       "      <th>Pld</th>\n",
       "      <th>W</th>\n",
       "      <th>D</th>\n",
       "      <th>L</th>\n",
       "      <th>GF</th>\n",
       "      <th>GA</th>\n",
       "      <th>GD</th>\n",
       "      <th>Pts</th>\n",
       "      <th>Qualification or relegation</th>\n",
       "    </tr>\n",
       "  </thead>\n",
       "  <tbody>\n",
       "    <tr>\n",
       "      <th>0</th>\n",
       "      <td>2010-11</td>\n",
       "      <td>1</td>\n",
       "      <td>Manchester United</td>\n",
       "      <td>38</td>\n",
       "      <td>23</td>\n",
       "      <td>11</td>\n",
       "      <td>4</td>\n",
       "      <td>78</td>\n",
       "      <td>37</td>\n",
       "      <td>41</td>\n",
       "      <td>80</td>\n",
       "      <td>Qualification for the Champions League group s...</td>\n",
       "    </tr>\n",
       "    <tr>\n",
       "      <th>1</th>\n",
       "      <td>2010-11</td>\n",
       "      <td>2</td>\n",
       "      <td>Chelsea</td>\n",
       "      <td>38</td>\n",
       "      <td>21</td>\n",
       "      <td>8</td>\n",
       "      <td>9</td>\n",
       "      <td>69</td>\n",
       "      <td>33</td>\n",
       "      <td>36</td>\n",
       "      <td>71</td>\n",
       "      <td>Qualification for the Champions League group s...</td>\n",
       "    </tr>\n",
       "    <tr>\n",
       "      <th>2</th>\n",
       "      <td>2010-11</td>\n",
       "      <td>3</td>\n",
       "      <td>Manchester City</td>\n",
       "      <td>38</td>\n",
       "      <td>21</td>\n",
       "      <td>8</td>\n",
       "      <td>9</td>\n",
       "      <td>60</td>\n",
       "      <td>33</td>\n",
       "      <td>27</td>\n",
       "      <td>71</td>\n",
       "      <td>Qualification for the Champions League group s...</td>\n",
       "    </tr>\n",
       "    <tr>\n",
       "      <th>3</th>\n",
       "      <td>2010-11</td>\n",
       "      <td>4</td>\n",
       "      <td>Arsenal</td>\n",
       "      <td>38</td>\n",
       "      <td>19</td>\n",
       "      <td>11</td>\n",
       "      <td>8</td>\n",
       "      <td>72</td>\n",
       "      <td>43</td>\n",
       "      <td>29</td>\n",
       "      <td>68</td>\n",
       "      <td>Qualification for the Champions League play-of...</td>\n",
       "    </tr>\n",
       "    <tr>\n",
       "      <th>4</th>\n",
       "      <td>2010-11</td>\n",
       "      <td>5</td>\n",
       "      <td>Tottenham Hotspur</td>\n",
       "      <td>38</td>\n",
       "      <td>16</td>\n",
       "      <td>14</td>\n",
       "      <td>8</td>\n",
       "      <td>55</td>\n",
       "      <td>46</td>\n",
       "      <td>9</td>\n",
       "      <td>62</td>\n",
       "      <td>Qualification for the Europa League play-off r...</td>\n",
       "    </tr>\n",
       "    <tr>\n",
       "      <th>...</th>\n",
       "      <td>...</td>\n",
       "      <td>...</td>\n",
       "      <td>...</td>\n",
       "      <td>...</td>\n",
       "      <td>...</td>\n",
       "      <td>...</td>\n",
       "      <td>...</td>\n",
       "      <td>...</td>\n",
       "      <td>...</td>\n",
       "      <td>...</td>\n",
       "      <td>...</td>\n",
       "      <td>...</td>\n",
       "    </tr>\n",
       "    <tr>\n",
       "      <th>215</th>\n",
       "      <td>2020-21</td>\n",
       "      <td>16</td>\n",
       "      <td>Brighton &amp; Hove Albion</td>\n",
       "      <td>38</td>\n",
       "      <td>9</td>\n",
       "      <td>14</td>\n",
       "      <td>15</td>\n",
       "      <td>40</td>\n",
       "      <td>46</td>\n",
       "      <td>-6</td>\n",
       "      <td>41</td>\n",
       "      <td>Not Applicable</td>\n",
       "    </tr>\n",
       "    <tr>\n",
       "      <th>216</th>\n",
       "      <td>2020-21</td>\n",
       "      <td>17</td>\n",
       "      <td>Burnley</td>\n",
       "      <td>38</td>\n",
       "      <td>10</td>\n",
       "      <td>9</td>\n",
       "      <td>19</td>\n",
       "      <td>33</td>\n",
       "      <td>55</td>\n",
       "      <td>-22</td>\n",
       "      <td>39</td>\n",
       "      <td>Not Applicable</td>\n",
       "    </tr>\n",
       "    <tr>\n",
       "      <th>217</th>\n",
       "      <td>2020-21</td>\n",
       "      <td>18</td>\n",
       "      <td>Fulham</td>\n",
       "      <td>38</td>\n",
       "      <td>5</td>\n",
       "      <td>13</td>\n",
       "      <td>20</td>\n",
       "      <td>27</td>\n",
       "      <td>53</td>\n",
       "      <td>-26</td>\n",
       "      <td>28</td>\n",
       "      <td>Relegation to the EFL Championship</td>\n",
       "    </tr>\n",
       "    <tr>\n",
       "      <th>218</th>\n",
       "      <td>2020-21</td>\n",
       "      <td>19</td>\n",
       "      <td>West Bromwich Albion</td>\n",
       "      <td>38</td>\n",
       "      <td>5</td>\n",
       "      <td>11</td>\n",
       "      <td>22</td>\n",
       "      <td>35</td>\n",
       "      <td>76</td>\n",
       "      <td>-41</td>\n",
       "      <td>26</td>\n",
       "      <td>Relegation to the EFL Championship</td>\n",
       "    </tr>\n",
       "    <tr>\n",
       "      <th>219</th>\n",
       "      <td>2020-21</td>\n",
       "      <td>20</td>\n",
       "      <td>Sheffield United</td>\n",
       "      <td>38</td>\n",
       "      <td>7</td>\n",
       "      <td>2</td>\n",
       "      <td>29</td>\n",
       "      <td>20</td>\n",
       "      <td>63</td>\n",
       "      <td>-43</td>\n",
       "      <td>23</td>\n",
       "      <td>Relegation to the EFL Championship</td>\n",
       "    </tr>\n",
       "  </tbody>\n",
       "</table>\n",
       "<p>220 rows × 12 columns</p>\n",
       "</div>"
      ],
      "text/plain": [
       "      Season  Pos                    Team  Pld   W   D   L  GF  GA  GD  Pts  \\\n",
       "0    2010-11    1       Manchester United   38  23  11   4  78  37  41   80   \n",
       "1    2010-11    2                 Chelsea   38  21   8   9  69  33  36   71   \n",
       "2    2010-11    3         Manchester City   38  21   8   9  60  33  27   71   \n",
       "3    2010-11    4                 Arsenal   38  19  11   8  72  43  29   68   \n",
       "4    2010-11    5       Tottenham Hotspur   38  16  14   8  55  46   9   62   \n",
       "..       ...  ...                     ...  ...  ..  ..  ..  ..  ..  ..  ...   \n",
       "215  2020-21   16  Brighton & Hove Albion   38   9  14  15  40  46  -6   41   \n",
       "216  2020-21   17                 Burnley   38  10   9  19  33  55 -22   39   \n",
       "217  2020-21   18                  Fulham   38   5  13  20  27  53 -26   28   \n",
       "218  2020-21   19    West Bromwich Albion   38   5  11  22  35  76 -41   26   \n",
       "219  2020-21   20        Sheffield United   38   7   2  29  20  63 -43   23   \n",
       "\n",
       "                           Qualification or relegation  \n",
       "0    Qualification for the Champions League group s...  \n",
       "1    Qualification for the Champions League group s...  \n",
       "2    Qualification for the Champions League group s...  \n",
       "3    Qualification for the Champions League play-of...  \n",
       "4    Qualification for the Europa League play-off r...  \n",
       "..                                                 ...  \n",
       "215                                     Not Applicable  \n",
       "216                                     Not Applicable  \n",
       "217                 Relegation to the EFL Championship  \n",
       "218                 Relegation to the EFL Championship  \n",
       "219                 Relegation to the EFL Championship  \n",
       "\n",
       "[220 rows x 12 columns]"
      ]
     },
     "execution_count": 2,
     "metadata": {},
     "output_type": "execute_result"
    }
   ],
   "source": [
    "data = pd.read_csv('premiar_leage.csv')\n",
    "data"
   ]
  },
  {
   "cell_type": "code",
   "execution_count": 18,
   "metadata": {},
   "outputs": [
    {
     "data": {
      "text/html": [
       "<div>\n",
       "<style scoped>\n",
       "    .dataframe tbody tr th:only-of-type {\n",
       "        vertical-align: middle;\n",
       "    }\n",
       "\n",
       "    .dataframe tbody tr th {\n",
       "        vertical-align: top;\n",
       "    }\n",
       "\n",
       "    .dataframe thead th {\n",
       "        text-align: right;\n",
       "    }\n",
       "</style>\n",
       "<table border=\"1\" class=\"dataframe\">\n",
       "  <thead>\n",
       "    <tr style=\"text-align: right;\">\n",
       "      <th></th>\n",
       "      <th>W</th>\n",
       "      <th>Pts</th>\n",
       "    </tr>\n",
       "  </thead>\n",
       "  <tbody>\n",
       "    <tr>\n",
       "      <th>0</th>\n",
       "      <td>3</td>\n",
       "      <td>16.500000</td>\n",
       "    </tr>\n",
       "    <tr>\n",
       "      <th>1</th>\n",
       "      <td>4</td>\n",
       "      <td>25.000000</td>\n",
       "    </tr>\n",
       "    <tr>\n",
       "      <th>2</th>\n",
       "      <td>5</td>\n",
       "      <td>25.600000</td>\n",
       "    </tr>\n",
       "    <tr>\n",
       "      <th>3</th>\n",
       "      <td>6</td>\n",
       "      <td>27.666667</td>\n",
       "    </tr>\n",
       "    <tr>\n",
       "      <th>4</th>\n",
       "      <td>7</td>\n",
       "      <td>32.600000</td>\n",
       "    </tr>\n",
       "    <tr>\n",
       "      <th>5</th>\n",
       "      <td>8</td>\n",
       "      <td>33.571429</td>\n",
       "    </tr>\n",
       "    <tr>\n",
       "      <th>6</th>\n",
       "      <td>9</td>\n",
       "      <td>37.722222</td>\n",
       "    </tr>\n",
       "    <tr>\n",
       "      <th>7</th>\n",
       "      <td>10</td>\n",
       "      <td>38.933333</td>\n",
       "    </tr>\n",
       "    <tr>\n",
       "      <th>8</th>\n",
       "      <td>11</td>\n",
       "      <td>43.038462</td>\n",
       "    </tr>\n",
       "    <tr>\n",
       "      <th>9</th>\n",
       "      <td>12</td>\n",
       "      <td>45.576923</td>\n",
       "    </tr>\n",
       "    <tr>\n",
       "      <th>10</th>\n",
       "      <td>13</td>\n",
       "      <td>48.111111</td>\n",
       "    </tr>\n",
       "    <tr>\n",
       "      <th>11</th>\n",
       "      <td>14</td>\n",
       "      <td>51.888889</td>\n",
       "    </tr>\n",
       "    <tr>\n",
       "      <th>12</th>\n",
       "      <td>15</td>\n",
       "      <td>53.800000</td>\n",
       "    </tr>\n",
       "    <tr>\n",
       "      <th>13</th>\n",
       "      <td>16</td>\n",
       "      <td>59.444444</td>\n",
       "    </tr>\n",
       "    <tr>\n",
       "      <th>14</th>\n",
       "      <td>17</td>\n",
       "      <td>59.333333</td>\n",
       "    </tr>\n",
       "    <tr>\n",
       "      <th>15</th>\n",
       "      <td>18</td>\n",
       "      <td>62.800000</td>\n",
       "    </tr>\n",
       "    <tr>\n",
       "      <th>16</th>\n",
       "      <td>19</td>\n",
       "      <td>65.818182</td>\n",
       "    </tr>\n",
       "    <tr>\n",
       "      <th>17</th>\n",
       "      <td>20</td>\n",
       "      <td>68.500000</td>\n",
       "    </tr>\n",
       "    <tr>\n",
       "      <th>18</th>\n",
       "      <td>21</td>\n",
       "      <td>71.583333</td>\n",
       "    </tr>\n",
       "    <tr>\n",
       "      <th>19</th>\n",
       "      <td>22</td>\n",
       "      <td>75.333333</td>\n",
       "    </tr>\n",
       "    <tr>\n",
       "      <th>20</th>\n",
       "      <td>23</td>\n",
       "      <td>77.142857</td>\n",
       "    </tr>\n",
       "    <tr>\n",
       "      <th>21</th>\n",
       "      <td>24</td>\n",
       "      <td>79.000000</td>\n",
       "    </tr>\n",
       "    <tr>\n",
       "      <th>22</th>\n",
       "      <td>25</td>\n",
       "      <td>81.500000</td>\n",
       "    </tr>\n",
       "    <tr>\n",
       "      <th>23</th>\n",
       "      <td>26</td>\n",
       "      <td>84.500000</td>\n",
       "    </tr>\n",
       "    <tr>\n",
       "      <th>24</th>\n",
       "      <td>27</td>\n",
       "      <td>86.000000</td>\n",
       "    </tr>\n",
       "    <tr>\n",
       "      <th>25</th>\n",
       "      <td>28</td>\n",
       "      <td>89.000000</td>\n",
       "    </tr>\n",
       "    <tr>\n",
       "      <th>26</th>\n",
       "      <td>30</td>\n",
       "      <td>95.000000</td>\n",
       "    </tr>\n",
       "    <tr>\n",
       "      <th>27</th>\n",
       "      <td>32</td>\n",
       "      <td>99.000000</td>\n",
       "    </tr>\n",
       "  </tbody>\n",
       "</table>\n",
       "</div>"
      ],
      "text/plain": [
       "     W        Pts\n",
       "0    3  16.500000\n",
       "1    4  25.000000\n",
       "2    5  25.600000\n",
       "3    6  27.666667\n",
       "4    7  32.600000\n",
       "5    8  33.571429\n",
       "6    9  37.722222\n",
       "7   10  38.933333\n",
       "8   11  43.038462\n",
       "9   12  45.576923\n",
       "10  13  48.111111\n",
       "11  14  51.888889\n",
       "12  15  53.800000\n",
       "13  16  59.444444\n",
       "14  17  59.333333\n",
       "15  18  62.800000\n",
       "16  19  65.818182\n",
       "17  20  68.500000\n",
       "18  21  71.583333\n",
       "19  22  75.333333\n",
       "20  23  77.142857\n",
       "21  24  79.000000\n",
       "22  25  81.500000\n",
       "23  26  84.500000\n",
       "24  27  86.000000\n",
       "25  28  89.000000\n",
       "26  30  95.000000\n",
       "27  32  99.000000"
      ]
     },
     "execution_count": 18,
     "metadata": {},
     "output_type": "execute_result"
    }
   ],
   "source": [
    "season = data.groupby(\"W\", as_index=False).Pts.mean()\n",
    "season"
   ]
  },
  {
   "cell_type": "code",
   "execution_count": 21,
   "metadata": {},
   "outputs": [
    {
     "data": {
      "text/plain": [
       "[Text(0, 0, '1'),\n",
       " Text(1, 0, '2'),\n",
       " Text(2, 0, '3'),\n",
       " Text(3, 0, '4'),\n",
       " Text(4, 0, '5'),\n",
       " Text(5, 0, '6'),\n",
       " Text(6, 0, '7'),\n",
       " Text(7, 0, '8'),\n",
       " Text(8, 0, '9'),\n",
       " Text(9, 0, '10'),\n",
       " Text(10, 0, '11'),\n",
       " Text(11, 0, '12'),\n",
       " Text(12, 0, '13'),\n",
       " Text(13, 0, '14'),\n",
       " Text(14, 0, '15'),\n",
       " Text(15, 0, '16'),\n",
       " Text(16, 0, '17'),\n",
       " Text(17, 0, '18'),\n",
       " Text(18, 0, '19'),\n",
       " Text(19, 0, '20'),\n",
       " Text(20, 0, '21'),\n",
       " Text(21, 0, '22'),\n",
       " Text(22, 0, '23'),\n",
       " Text(23, 0, '24'),\n",
       " Text(24, 0, '25'),\n",
       " Text(25, 0, '26'),\n",
       " Text(26, 0, '27'),\n",
       " Text(27, 0, '28')]"
      ]
     },
     "execution_count": 21,
     "metadata": {},
     "output_type": "execute_result"
    },
    {
     "data": {
      "image/png": "[encoded data removed]",
      "text/plain": [
       "<Figure size 432x288 with 1 Axes>"
      ]
     },
     "metadata": {
      "needs_background": "light"
     },
     "output_type": "display_data"
    }
   ],
   "source": [
    "x_y_labels = sns.barplot(x = 'Pts',y=\"W\" , data= season)\n",
    "x_y_labels.set_xticklabels(labels = [1,2,3,4,5,6,7,8,9,10,11,12,13,14,15,16,17,18,19,20,21,22,23,24,25,26,27,28])"
   ]
  },
  {
   "cell_type": "code",
   "execution_count": 23,
   "metadata": {},
   "outputs": [
    {
     "data": {
      "text/plain": [
       "[Text(0, 0, '1'),\n",
       " Text(1, 0, '2'),\n",
       " Text(2, 0, '3'),\n",
       " Text(3, 0, '4'),\n",
       " Text(4, 0, '5'),\n",
       " Text(5, 0, '6'),\n",
       " Text(6, 0, '7'),\n",
       " Text(7, 0, '8'),\n",
       " Text(8, 0, '9'),\n",
       " Text(9, 0, '10'),\n",
       " Text(10, 0, '11')]"
      ]
     },
     "execution_count": 23,
     "metadata": {},
     "output_type": "execute_result"
    },
    {
     "data": {
      "image/png": "[encoded data removed]",
      "text/plain": [
       "<Figure size 432x288 with 1 Axes>"
      ]
     },
     "metadata": {
      "needs_background": "light"
     },
     "output_type": "display_data"
    }
   ],
   "source": [
    "season_data = sns.countplot(data = data, x = 'Season')\n",
    "season_data.set_xticklabels(labels= [1,2,3,4,5,6,7,8,9,10,11])"
   ]
  },
  {
   "cell_type": "code",
   "execution_count": 33,
   "metadata": {},
   "outputs": [
    {
     "data": {
      "text/plain": [
       "<seaborn.axisgrid.FacetGrid at 0x7fb559876eb0>"
      ]
     },
     "execution_count": 33,
     "metadata": {},
     "output_type": "execute_result"
    },
    {
     "data": {
      "image/png": "[encoded data removed]",
      "text/plain": [
       "<Figure size 360x360 with 1 Axes>"
      ]
     },
     "metadata": {
      "needs_background": "light"
     },
     "output_type": "display_data"
    }
   ],
   "source": [
    "avg_season = data.groupby(\"Team\",as_index=False).Pts.sum()\n",
    "year_month_plot = sns.relplot(x = \"Pts\", y=\"Team\" , data = avg_season)\n",
    "year_month_plot.set_xticklabels(labels= ['Jan','Feb','Mar','Apr','May','Jun','Jul'])"
   ]
  },
  {
   "cell_type": "code",
   "execution_count": 35,
   "metadata": {},
   "outputs": [
    {
     "data": {
      "text/plain": [
       "<seaborn.axisgrid.FacetGrid at 0x7fb559bc4100>"
      ]
     },
     "execution_count": 35,
     "metadata": {},
     "output_type": "execute_result"
    },
    {
     "data": {
      "image/png": "[encoded data removed]",
      "text/plain": [
       "<Figure size 360x360 with 1 Axes>"
      ]
     },
     "metadata": {
      "needs_background": "light"
     },
     "output_type": "display_data"
    }
   ],
   "source": [
    "sns.lmplot(x = 'W' , y = 'Pts' , data = data)"
   ]
  },
  {
   "cell_type": "code",
   "execution_count": 46,
   "metadata": {},
   "outputs": [
    {
     "data": {
      "text/plain": [
       "[Text(0, 0, '1'),\n",
       " Text(1, 0, '2'),\n",
       " Text(2, 0, '3'),\n",
       " Text(3, 0, '4'),\n",
       " Text(4, 0, '5'),\n",
       " Text(5, 0, '6'),\n",
       " Text(6, 0, '7'),\n",
       " Text(7, 0, '8'),\n",
       " Text(8, 0, '9'),\n",
       " Text(9, 0, '10'),\n",
       " Text(10, 0, '11'),\n",
       " Text(11, 0, '12'),\n",
       " Text(12, 0, '13'),\n",
       " Text(13, 0, '14'),\n",
       " Text(14, 0, '15'),\n",
       " Text(15, 0, '16'),\n",
       " Text(16, 0, '17'),\n",
       " Text(17, 0, '18'),\n",
       " Text(18, 0, '19'),\n",
       " Text(19, 0, '20'),\n",
       " Text(20, 0, '21'),\n",
       " Text(21, 0, '22'),\n",
       " Text(22, 0, '23'),\n",
       " Text(23, 0, '24'),\n",
       " Text(24, 0, '25'),\n",
       " Text(25, 0, '26'),\n",
       " Text(26, 0, '27'),\n",
       " Text(27, 0, '28'),\n",
       " Text(28, 0, '29'),\n",
       " Text(29, 0, '30'),\n",
       " Text(30, 0, '31'),\n",
       " Text(31, 0, '32'),\n",
       " Text(32, 0, '33'),\n",
       " Text(33, 0, '34'),\n",
       " Text(34, 0, '35'),\n",
       " Text(35, 0, '36'),\n",
       " Text(36, 0, '37')]"
      ]
     },
     "execution_count": 46,
     "metadata": {},
     "output_type": "execute_result"
    },
    {
     "data": {
      "image/png": "[encoded data removed]",
      "text/plain": [
       "<Figure size 432x288 with 1 Axes>"
      ]
     },
     "metadata": {
      "needs_background": "light"
     },
     "output_type": "display_data"
    }
   ],
   "source": [
    "month_number_plot = sns.pointplot(x = 'Team' , y = 'Pts' , data = data )\n",
    "month_number_plot.set_xticklabels(labels= [1,2,3,4,5,6,7,8,9,10,11,12,13,14,15,16,17,18,19,20,21,22,23,24,25,26,27,28,29,30,31,32,33,34,35,36,37])"
   ]
  },
  {
   "cell_type": "code",
   "execution_count": 47,
   "metadata": {},
   "outputs": [
    {
     "data": {
      "text/plain": [
       "[Text(0, 0, '1'),\n",
       " Text(1, 0, '2'),\n",
       " Text(2, 0, '3'),\n",
       " Text(3, 0, '4'),\n",
       " Text(4, 0, '5'),\n",
       " Text(5, 0, '6'),\n",
       " Text(6, 0, '7'),\n",
       " Text(7, 0, '8'),\n",
       " Text(8, 0, '9'),\n",
       " Text(9, 0, '10'),\n",
       " Text(10, 0, '11'),\n",
       " Text(11, 0, '12'),\n",
       " Text(12, 0, '13'),\n",
       " Text(13, 0, '14'),\n",
       " Text(14, 0, '15'),\n",
       " Text(15, 0, '16'),\n",
       " Text(16, 0, '17'),\n",
       " Text(17, 0, '18'),\n",
       " Text(18, 0, '19'),\n",
       " Text(19, 0, '20'),\n",
       " Text(20, 0, '21'),\n",
       " Text(21, 0, '22'),\n",
       " Text(22, 0, '23'),\n",
       " Text(23, 0, '24'),\n",
       " Text(24, 0, '25'),\n",
       " Text(25, 0, '26'),\n",
       " Text(26, 0, '27'),\n",
       " Text(27, 0, '28'),\n",
       " Text(28, 0, '29'),\n",
       " Text(29, 0, '30'),\n",
       " Text(30, 0, '31'),\n",
       " Text(31, 0, '32'),\n",
       " Text(32, 0, '33'),\n",
       " Text(33, 0, '34'),\n",
       " Text(34, 0, '35'),\n",
       " Text(35, 0, '36'),\n",
       " Text(36, 0, '37')]"
      ]
     },
     "execution_count": 47,
     "metadata": {},
     "output_type": "execute_result"
    },
    {
     "data": {
      "image/png": "[encoded data removed]",
      "text/plain": [
       "<Figure size 432x288 with 1 Axes>"
      ]
     },
     "metadata": {
      "needs_background": "light"
     },
     "output_type": "display_data"
    }
   ],
   "source": [
    "month_year_plot = sns.boxplot(x = 'Team' , y = 'Pts' , data = data)\n",
    "month_year_plot.set_xticklabels(labels= [1,2,3,4,5,6,7,8,9,10,11,12,13,14,15,16,17,18,19,20,21,22,23,24,25,26,27,28,29,30,31,32,33,34,35,36,37])"
   ]
  }
 ],
 "metadata": {
  "interpreter": {
   "hash": "df604f6ffe9495454c2e49f453813830a11a45b2804b2dff435bb93f8f65608a"
  },
  "kernelspec": {
   "display_name": "Python 3.9.5 64-bit ('.venv': poetry)",
   "name": "python3"
  },
  "language_info": {
   "codemirror_mode": {
    "name": "ipython",
    "version": 3
   },
   "file_extension": ".py",
   "mimetype": "text/x-python",
   "name": "python",
   "nbconvert_exporter": "python",
   "pygments_lexer": "ipython3",
   "version": "3.9.5"
  },
  "orig_nbformat": 4
 },
 "nbformat": 4,
 "nbformat_minor": 2
}
