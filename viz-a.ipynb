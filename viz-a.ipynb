{
 "cells": [
  {
   "cell_type": "code",
   "execution_count": 1,
   "metadata": {},
   "outputs": [],
   "source": [
    "import numpy as np\n",
    "import pandas as pd\n",
    "import seaborn as sns\n",
    "import matplotlib.pyplot as plt"
   ]
  },
  {
   "cell_type": "code",
   "execution_count": 2,
   "metadata": {},
   "outputs": [
    {
     "data": {
      "text/html": [
       "<div>\n",
       "<style scoped>\n",
       "    .dataframe tbody tr th:only-of-type {\n",
       "        vertical-align: middle;\n",
       "    }\n",
       "\n",
       "    .dataframe tbody tr th {\n",
       "        vertical-align: top;\n",
       "    }\n",
       "\n",
       "    .dataframe thead th {\n",
       "        text-align: right;\n",
       "    }\n",
       "</style>\n",
       "<table border=\"1\" class=\"dataframe\">\n",
       "  <thead>\n",
       "    <tr style=\"text-align: right;\">\n",
       "      <th></th>\n",
       "      <th>year</th>\n",
       "      <th>state</th>\n",
       "      <th>month</th>\n",
       "      <th>number</th>\n",
       "      <th>date</th>\n",
       "    </tr>\n",
       "  </thead>\n",
       "  <tbody>\n",
       "    <tr>\n",
       "      <th>0</th>\n",
       "      <td>1998</td>\n",
       "      <td>Acre</td>\n",
       "      <td>Janeiro</td>\n",
       "      <td>0.0</td>\n",
       "      <td>1998-01-01</td>\n",
       "    </tr>\n",
       "    <tr>\n",
       "      <th>1</th>\n",
       "      <td>1999</td>\n",
       "      <td>Acre</td>\n",
       "      <td>Janeiro</td>\n",
       "      <td>0.0</td>\n",
       "      <td>1999-01-01</td>\n",
       "    </tr>\n",
       "    <tr>\n",
       "      <th>2</th>\n",
       "      <td>2000</td>\n",
       "      <td>Acre</td>\n",
       "      <td>Janeiro</td>\n",
       "      <td>0.0</td>\n",
       "      <td>2000-01-01</td>\n",
       "    </tr>\n",
       "    <tr>\n",
       "      <th>3</th>\n",
       "      <td>2001</td>\n",
       "      <td>Acre</td>\n",
       "      <td>Janeiro</td>\n",
       "      <td>0.0</td>\n",
       "      <td>2001-01-01</td>\n",
       "    </tr>\n",
       "    <tr>\n",
       "      <th>4</th>\n",
       "      <td>2002</td>\n",
       "      <td>Acre</td>\n",
       "      <td>Janeiro</td>\n",
       "      <td>0.0</td>\n",
       "      <td>2002-01-01</td>\n",
       "    </tr>\n",
       "    <tr>\n",
       "      <th>...</th>\n",
       "      <td>...</td>\n",
       "      <td>...</td>\n",
       "      <td>...</td>\n",
       "      <td>...</td>\n",
       "      <td>...</td>\n",
       "    </tr>\n",
       "    <tr>\n",
       "      <th>6449</th>\n",
       "      <td>2012</td>\n",
       "      <td>Tocantins</td>\n",
       "      <td>Dezembro</td>\n",
       "      <td>128.0</td>\n",
       "      <td>2012-01-01</td>\n",
       "    </tr>\n",
       "    <tr>\n",
       "      <th>6450</th>\n",
       "      <td>2013</td>\n",
       "      <td>Tocantins</td>\n",
       "      <td>Dezembro</td>\n",
       "      <td>85.0</td>\n",
       "      <td>2013-01-01</td>\n",
       "    </tr>\n",
       "    <tr>\n",
       "      <th>6451</th>\n",
       "      <td>2014</td>\n",
       "      <td>Tocantins</td>\n",
       "      <td>Dezembro</td>\n",
       "      <td>223.0</td>\n",
       "      <td>2014-01-01</td>\n",
       "    </tr>\n",
       "    <tr>\n",
       "      <th>6452</th>\n",
       "      <td>2015</td>\n",
       "      <td>Tocantins</td>\n",
       "      <td>Dezembro</td>\n",
       "      <td>373.0</td>\n",
       "      <td>2015-01-01</td>\n",
       "    </tr>\n",
       "    <tr>\n",
       "      <th>6453</th>\n",
       "      <td>2016</td>\n",
       "      <td>Tocantins</td>\n",
       "      <td>Dezembro</td>\n",
       "      <td>119.0</td>\n",
       "      <td>2016-01-01</td>\n",
       "    </tr>\n",
       "  </tbody>\n",
       "</table>\n",
       "<p>6454 rows × 5 columns</p>\n",
       "</div>"
      ],
      "text/plain": [
       "      year      state     month  number        date\n",
       "0     1998       Acre   Janeiro     0.0  1998-01-01\n",
       "1     1999       Acre   Janeiro     0.0  1999-01-01\n",
       "2     2000       Acre   Janeiro     0.0  2000-01-01\n",
       "3     2001       Acre   Janeiro     0.0  2001-01-01\n",
       "4     2002       Acre   Janeiro     0.0  2002-01-01\n",
       "...    ...        ...       ...     ...         ...\n",
       "6449  2012  Tocantins  Dezembro   128.0  2012-01-01\n",
       "6450  2013  Tocantins  Dezembro    85.0  2013-01-01\n",
       "6451  2014  Tocantins  Dezembro   223.0  2014-01-01\n",
       "6452  2015  Tocantins  Dezembro   373.0  2015-01-01\n",
       "6453  2016  Tocantins  Dezembro   119.0  2016-01-01\n",
       "\n",
       "[6454 rows x 5 columns]"
      ]
     },
     "execution_count": 2,
     "metadata": {},
     "output_type": "execute_result"
    }
   ],
   "source": [
    "\n",
    "data = pd.read_csv('amazon.csv')\n",
    "data"
   ]
  },
  {
   "cell_type": "code",
   "execution_count": 3,
   "metadata": {},
   "outputs": [
    {
     "data": {
      "text/html": [
       "<div>\n",
       "<style scoped>\n",
       "    .dataframe tbody tr th:only-of-type {\n",
       "        vertical-align: middle;\n",
       "    }\n",
       "\n",
       "    .dataframe tbody tr th {\n",
       "        vertical-align: top;\n",
       "    }\n",
       "\n",
       "    .dataframe thead th {\n",
       "        text-align: right;\n",
       "    }\n",
       "</style>\n",
       "<table border=\"1\" class=\"dataframe\">\n",
       "  <thead>\n",
       "    <tr style=\"text-align: right;\">\n",
       "      <th></th>\n",
       "      <th>year</th>\n",
       "      <th>number</th>\n",
       "    </tr>\n",
       "  </thead>\n",
       "  <tbody>\n",
       "    <tr>\n",
       "      <th>0</th>\n",
       "      <td>1998</td>\n",
       "      <td>61.771515</td>\n",
       "    </tr>\n",
       "    <tr>\n",
       "      <th>1</th>\n",
       "      <td>1999</td>\n",
       "      <td>82.971670</td>\n",
       "    </tr>\n",
       "    <tr>\n",
       "      <th>2</th>\n",
       "      <td>2000</td>\n",
       "      <td>84.417441</td>\n",
       "    </tr>\n",
       "    <tr>\n",
       "      <th>3</th>\n",
       "      <td>2001</td>\n",
       "      <td>89.727198</td>\n",
       "    </tr>\n",
       "    <tr>\n",
       "      <th>4</th>\n",
       "      <td>2002</td>\n",
       "      <td>115.403086</td>\n",
       "    </tr>\n",
       "    <tr>\n",
       "      <th>5</th>\n",
       "      <td>2003</td>\n",
       "      <td>131.977389</td>\n",
       "    </tr>\n",
       "    <tr>\n",
       "      <th>6</th>\n",
       "      <td>2004</td>\n",
       "      <td>118.682602</td>\n",
       "    </tr>\n",
       "    <tr>\n",
       "      <th>7</th>\n",
       "      <td>2005</td>\n",
       "      <td>108.040015</td>\n",
       "    </tr>\n",
       "    <tr>\n",
       "      <th>8</th>\n",
       "      <td>2006</td>\n",
       "      <td>104.420250</td>\n",
       "    </tr>\n",
       "    <tr>\n",
       "      <th>9</th>\n",
       "      <td>2007</td>\n",
       "      <td>101.967324</td>\n",
       "    </tr>\n",
       "    <tr>\n",
       "      <th>10</th>\n",
       "      <td>2008</td>\n",
       "      <td>90.675815</td>\n",
       "    </tr>\n",
       "    <tr>\n",
       "      <th>11</th>\n",
       "      <td>2009</td>\n",
       "      <td>120.732031</td>\n",
       "    </tr>\n",
       "    <tr>\n",
       "      <th>12</th>\n",
       "      <td>2010</td>\n",
       "      <td>114.313114</td>\n",
       "    </tr>\n",
       "    <tr>\n",
       "      <th>13</th>\n",
       "      <td>2011</td>\n",
       "      <td>106.893657</td>\n",
       "    </tr>\n",
       "    <tr>\n",
       "      <th>14</th>\n",
       "      <td>2012</td>\n",
       "      <td>123.718704</td>\n",
       "    </tr>\n",
       "    <tr>\n",
       "      <th>15</th>\n",
       "      <td>2013</td>\n",
       "      <td>108.475673</td>\n",
       "    </tr>\n",
       "    <tr>\n",
       "      <th>16</th>\n",
       "      <td>2014</td>\n",
       "      <td>122.287602</td>\n",
       "    </tr>\n",
       "    <tr>\n",
       "      <th>17</th>\n",
       "      <td>2015</td>\n",
       "      <td>127.186086</td>\n",
       "    </tr>\n",
       "    <tr>\n",
       "      <th>18</th>\n",
       "      <td>2016</td>\n",
       "      <td>130.284657</td>\n",
       "    </tr>\n",
       "    <tr>\n",
       "      <th>19</th>\n",
       "      <td>2017</td>\n",
       "      <td>123.106121</td>\n",
       "    </tr>\n",
       "  </tbody>\n",
       "</table>\n",
       "</div>"
      ],
      "text/plain": [
       "    year      number\n",
       "0   1998   61.771515\n",
       "1   1999   82.971670\n",
       "2   2000   84.417441\n",
       "3   2001   89.727198\n",
       "4   2002  115.403086\n",
       "5   2003  131.977389\n",
       "6   2004  118.682602\n",
       "7   2005  108.040015\n",
       "8   2006  104.420250\n",
       "9   2007  101.967324\n",
       "10  2008   90.675815\n",
       "11  2009  120.732031\n",
       "12  2010  114.313114\n",
       "13  2011  106.893657\n",
       "14  2012  123.718704\n",
       "15  2013  108.475673\n",
       "16  2014  122.287602\n",
       "17  2015  127.186086\n",
       "18  2016  130.284657\n",
       "19  2017  123.106121"
      ]
     },
     "execution_count": 3,
     "metadata": {},
     "output_type": "execute_result"
    }
   ],
   "source": [
    "year_num_data = data.groupby('year' , as_index=False).number.mean()\n",
    "year_num_data"
   ]
  },
  {
   "cell_type": "code",
   "execution_count": 5,
   "metadata": {},
   "outputs": [
    {
     "data": {
      "text/plain": [
       "[Text(0, 0, '98'),\n",
       " Text(1, 0, '99'),\n",
       " Text(2, 0, '0'),\n",
       " Text(3, 0, '1'),\n",
       " Text(4, 0, '2'),\n",
       " Text(5, 0, '3'),\n",
       " Text(6, 0, '4'),\n",
       " Text(7, 0, '5'),\n",
       " Text(8, 0, '6'),\n",
       " Text(9, 0, '7'),\n",
       " Text(10, 0, '8'),\n",
       " Text(11, 0, '9'),\n",
       " Text(12, 0, '10'),\n",
       " Text(13, 0, '11'),\n",
       " Text(14, 0, '12'),\n",
       " Text(15, 0, '13'),\n",
       " Text(16, 0, '14'),\n",
       " Text(17, 0, '15'),\n",
       " Text(18, 0, '16'),\n",
       " Text(19, 0, '17')]"
      ]
     },
     "execution_count": 5,
     "metadata": {},
     "output_type": "execute_result"
    },
    {
     "data": {
      "image/png": "[encoded data removed]",
      "text/plain": [
       "<Figure size 432x288 with 1 Axes>"
      ]
     },
     "metadata": {
      "needs_background": "light"
     },
     "output_type": "display_data"
    }
   ],
   "source": [
    "x_y_labels = sns.barplot(x = 'year', y = 'number' , data= year_num_data)\n",
    "x_y_labels.set_xticklabels(labels = [98,99,00,0o1,0o2,0o3,0o4,0o5,0o6,0o7, 8, 9,10,11,12,13,14,15,16,17])"
   ]
  },
  {
   "cell_type": "code",
   "execution_count": 6,
   "metadata": {},
   "outputs": [
    {
     "data": {
      "text/plain": [
       "[Text(0, 0, 'Jan'),\n",
       " Text(1, 0, 'Feb'),\n",
       " Text(2, 0, 'Mar'),\n",
       " Text(3, 0, 'Apr'),\n",
       " Text(4, 0, 'May'),\n",
       " Text(5, 0, 'Jun'),\n",
       " Text(6, 0, 'Jul'),\n",
       " Text(7, 0, 'Aug'),\n",
       " Text(8, 0, 'Sep'),\n",
       " Text(9, 0, 'Oct'),\n",
       " Text(10, 0, 'Nov'),\n",
       " Text(11, 0, 'Dec')]"
      ]
     },
     "execution_count": 6,
     "metadata": {},
     "output_type": "execute_result"
    },
    {
     "data": {
      "image/png": "[encoded data removed]",
      "text/plain": [
       "<Figure size 432x288 with 1 Axes>"
      ]
     },
     "metadata": {
      "needs_background": "light"
     },
     "output_type": "display_data"
    }
   ],
   "source": [
    "month_data = sns.countplot(data = data, x = 'month')\n",
    "month_data.set_xticklabels(labels= ['Jan','Feb','Mar','Apr','May','Jun','Jul','Aug','Sep','Oct','Nov','Dec'])"
   ]
  },
  {
   "cell_type": "code",
   "execution_count": 7,
   "metadata": {},
   "outputs": [
    {
     "data": {
      "text/plain": [
       "<seaborn.axisgrid.FacetGrid at 0x7f9ad78c7970>"
      ]
     },
     "execution_count": 7,
     "metadata": {},
     "output_type": "execute_result"
    },
    {
     "data": {
      "image/png": "[encoded data removed]",
      "text/plain": [
       "<Figure size 360x360 with 1 Axes>"
      ]
     },
     "metadata": {
      "needs_background": "light"
     },
     "output_type": "display_data"
    }
   ],
   "source": [
    "avg_months = data.groupby('month',as_index=False).year.sum()\n",
    "year_month_plot = sns.relplot(x = 'month' , y = 'year' , data = avg_months)\n",
    "year_month_plot.set_xticklabels(labels= ['Jan','Feb','Mar','Apr','May','Jun','Jul','Aug','Sep','Oct','Nov','Dec'])"
   ]
  },
  {
   "cell_type": "code",
   "execution_count": 8,
   "metadata": {},
   "outputs": [
    {
     "data": {
      "text/plain": [
       "<seaborn.axisgrid.FacetGrid at 0x7f9ad574f4c0>"
      ]
     },
     "execution_count": 8,
     "metadata": {},
     "output_type": "execute_result"
    },
    {
     "data": {
      "image/png": "[encoded data removed]",
      "text/plain": [
       "<Figure size 360x360 with 1 Axes>"
      ]
     },
     "metadata": {
      "needs_background": "light"
     },
     "output_type": "display_data"
    }
   ],
   "source": [
    "sns.lmplot(x = 'number' , y = 'year' , data = data)"
   ]
  },
  {
   "cell_type": "code",
   "execution_count": 9,
   "metadata": {},
   "outputs": [
    {
     "data": {
      "text/plain": [
       "[Text(0, 0, 'Jan'),\n",
       " Text(1, 0, 'Feb'),\n",
       " Text(2, 0, 'Mar'),\n",
       " Text(3, 0, 'Apr'),\n",
       " Text(4, 0, 'May'),\n",
       " Text(5, 0, 'Jun'),\n",
       " Text(6, 0, 'Jul'),\n",
       " Text(7, 0, 'Aug'),\n",
       " Text(8, 0, 'Sep'),\n",
       " Text(9, 0, 'Oct'),\n",
       " Text(10, 0, 'Nov'),\n",
       " Text(11, 0, 'Dec')]"
      ]
     },
     "execution_count": 9,
     "metadata": {},
     "output_type": "execute_result"
    },
    {
     "data": {
      "image/png": "[encoded data removed]",
      "text/plain": [
       "<Figure size 432x288 with 1 Axes>"
      ]
     },
     "metadata": {
      "needs_background": "light"
     },
     "output_type": "display_data"
    }
   ],
   "source": [
    "month_number_plot = sns.pointplot(x = 'month' , y = 'number' , data = data )\n",
    "month_number_plot.set_xticklabels(labels= ['Jan','Feb','Mar','Apr','May','Jun','Jul','Aug','Sep','Oct','Nov','Dec'])"
   ]
  },
  {
   "cell_type": "code",
   "execution_count": 10,
   "metadata": {},
   "outputs": [
    {
     "data": {
      "text/plain": [
       "[Text(0, 0, 'Jan'),\n",
       " Text(1, 0, 'Feb'),\n",
       " Text(2, 0, 'Mar'),\n",
       " Text(3, 0, 'Apr'),\n",
       " Text(4, 0, 'May'),\n",
       " Text(5, 0, 'Jun'),\n",
       " Text(6, 0, 'Jul'),\n",
       " Text(7, 0, 'Aug'),\n",
       " Text(8, 0, 'Sep'),\n",
       " Text(9, 0, 'Oct'),\n",
       " Text(10, 0, 'Nov'),\n",
       " Text(11, 0, 'Dec')]"
      ]
     },
     "execution_count": 10,
     "metadata": {},
     "output_type": "execute_result"
    },
    {
     "data": {
      "image/png": "[encoded data removed]",
      "text/plain": [
       "<Figure size 432x288 with 1 Axes>"
      ]
     },
     "metadata": {
      "needs_background": "light"
     },
     "output_type": "display_data"
    }
   ],
   "source": [
    "month_year_plot = sns.boxplot(x = 'month' , y = 'year' , data = data)\n",
    "month_year_plot.set_xticklabels(labels= ['Jan','Feb','Mar','Apr','May','Jun','Jul','Aug','Sep','Oct','Nov','Dec'])"
   ]
  },
  {
   "cell_type": "markdown",
   "metadata": {},
   "source": []
  }
 ],
 "metadata": {
  "interpreter": {
   "hash": "df604f6ffe9495454c2e49f453813830a11a45b2804b2dff435bb93f8f65608a"
  },
  "kernelspec": {
   "display_name": "Python 3.9.5 64-bit ('.venv': poetry)",
   "name": "python3"
  },
  "language_info": {
   "codemirror_mode": {
    "name": "ipython",
    "version": 3
   },
   "file_extension": ".py",
   "mimetype": "text/x-python",
   "name": "python",
   "nbconvert_exporter": "python",
   "pygments_lexer": "ipython3",
   "version": "3.9.5"
  },
  "orig_nbformat": 4
 },
 "nbformat": 4,
 "nbformat_minor": 2
}
